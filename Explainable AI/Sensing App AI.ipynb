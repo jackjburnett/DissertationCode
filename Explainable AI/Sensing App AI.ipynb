{
 "cells":[
  {
   "cell_type":"markdown",
   "source":[
    "# Dependencies"
   ],
   "attachments":{
    
   },
   "metadata":{
    "datalore":{
     "node_id":"jJC53ZCG1cbWg59xT1kQVm",
     "type":"MD",
     "hide_input_from_viewers":true,
     "hide_output_from_viewers":true
    }
   }
  },
  {
   "cell_type":"markdown",
   "source":[
    "Important note, you cannot train and predict without resetting the data source selection"
   ],
   "attachments":{
    
   },
   "metadata":{
    "datalore":{
     "node_id":"as5k4ANKBE8IPmE8YX13Gh",
     "type":"MD",
     "hide_input_from_viewers":true,
     "hide_output_from_viewers":true
    }
   }
  },
  {
   "cell_type":"code",
   "source":[
    "#Prevents FutureWarning red text\n",
    "import warnings\n",
    "warnings.simplefilter(action='ignore', category=FutureWarning)\n",
    "warnings.simplefilter(action='ignore', category=UserWarning)\n",
    "\n",
    "import pandas as pd\n",
    "from sqlalchemy import create_engine\n",
    "from sqlalchemy import text\n",
    "from sklearn.model_selection import train_test_split\n",
    "#from sklearn.metrics import accuracy_score\n",
    "#from sklearn.model_selection import KFold, cross_val_score\n",
    "from sklearn.linear_model import LinearRegression\n",
    "from sklearn.multioutput import MultiOutputClassifier\n",
    "from sklearn.naive_bayes import GaussianNB\n",
    "from sklearn import svm\n",
    "from sklearn import tree \n",
    "from sklearn.impute import SimpleImputer\n",
    "from sklearn.ensemble import RandomForestRegressor\n",
    "from statistics import mean\n",
    "#from reportlab.lib.pagesizes import letter\n",
    "#from reportlab.platypus import SimpleDocTemplate, Table, TableStyle\n",
    "#from reportlab.lib import colors\n",
    "import matplotlib.pyplot as plt\n",
    "from matplotlib.backends.backend_pdf import PdfPages"
   ],
   "execution_count":342,
   "outputs":[
    
   ],
   "metadata":{
    "datalore":{
     "node_id":"drB7K9Bn6lUS5wiNPmsq53",
     "type":"CODE",
     "hide_input_from_viewers":true,
     "hide_output_from_viewers":true
    }
   }
  },
  {
   "cell_type":"markdown",
   "source":[
    "# Data Source Selection"
   ],
   "attachments":{
    
   },
   "metadata":{
    "datalore":{
     "node_id":"1CMGae0KFAseLO2VbRYexy",
     "type":"MD",
     "hide_input_from_viewers":true,
     "hide_output_from_viewers":true
    }
   }
  },
  {
   "cell_type":"code",
   "source":[
    "#Select Data Source\n",
    "\n",
    "datasource = \"\"\n",
    "sensingAcceptedInputs=[\"1\", \"app\", \"sensing app\", \"sensing application\"]\n",
    "publicAcceptedInputs=[\"2\", \"psb\", \"psbd\", \"public sample beiwe dataset\", \"public sample\"]\n",
    "while not (datasource in sensingAcceptedInputs or datasource in publicAcceptedInputs):\n",
    "    datasource = input(\"\"\"Please enter the data source you would like to use:\n",
    "    1. Sensing Application\n",
    "    2. Public Sample Beiwe Dataset (Researchers)\"\"\").lower()\n",
    "\n",
    "def parsegps(log):\n",
    "    log['Time']=pd.to_datetime(log.Time,errors='coerce', utc=True)\n",
    "    return log\n",
    "\n",
    "def pbs_answerstoint(x):\n",
    "    if x == \"0\":\n",
    "        return 0\n",
    "    elif x== \"One to two\":\n",
    "        return 1\n",
    "    elif x == \"Three to five\":\n",
    "        return 4\n",
    "    elif x == \"Six or more\":\n",
    "        return 6\n",
    "    else:\n",
    "        return -1\n",
    "    \n",
    "def pbs_question1(x):\n",
    "    y=0\n",
    "    if 'Little interest in doing things' in x:\n",
    "        y+= 1\n",
    "    if 'Trouble falling asleep' in x:\n",
    "        y+=10\n",
    "    if 'Poor appetite' in x:\n",
    "        y+=100\n",
    "    if 'Trouble concentrating' in x:\n",
    "        y+=1000\n",
    "    return y\n",
    "\n",
    "def parseoutcomes(log):\n",
    "    log['Time']=pd.to_datetime(log.Time,errors='coerce')\n",
    "    log['question_1']=log['question_1'].map(pbs_question1)\n",
    "    log['question_1']=log['question_1'].astype('int')\n",
    "    log['question_3']=log['question_3'].map(pbs_answerstoint)\n",
    "    log['question_3']=log['question_3'].astype('int')\n",
    "    return log\n",
    "\n",
    "def parseapplog(log):\n",
    "    log['timeopened']=pd.to_datetime(log.timeopened,errors='coerce')\n",
    "    log['timeclosed']=pd.to_datetime(log.timeclosed,errors='coerce')\n",
    "    return log\n",
    "\n",
    "#Data Processing - Sensing Application\n",
    "if datasource in sensingAcceptedInputs:\n",
    "    try:\n",
    "        engine = create_engine('postgresql+psycopg2:\/\/jackjburnett:GCWF12EvIZPB@ep-icy-dawn-73059437.eu-central-1.aws.neon.tech\/neondb')\n",
    "        print(\"Engine Configured\")\n",
    "        conn=engine.connect()\n",
    "        print(\"Database Connection Successful\")\n",
    "        print(\"Retrieving GPS Log\")\n",
    "        gpslog=pd.read_sql_query(text(\"select distinct \\\"Time\\\", longitude, latitude, userid from gpslog\"), conn)\n",
    "        print(\"GPS Log retrieved\")\n",
    "        print(\"Retrieving Mood Reports\")\n",
    "        outcomes=pd.read_sql_query(text(\"select distinct \\\"Time\\\", q1, q2, q3, q4, q5, q6, q7, q8, q9, q10, q11, q12, q13, q14, q15, q16, q17, q18, userid from msreports\"), conn)\n",
    "        print(\"Mood Reports retrieved\")\n",
    "        print(\"Retrieving Application Usage\")\n",
    "        applog=pd.read_sql_query(text(\"select distinct appname, timeopened, timeclosed, userid from appusage\"), conn)\n",
    "        applog=parseapplog(applog)\n",
    "        print(\"Application Usage retrieved\")\n",
    "        conn.close()\n",
    "    except Exception as error:\n",
    "        print(error)\n",
    "        print(\"Database connection error\")    \n",
    "\n",
    "#Data Processing - Public Sample Beiwe Dataset\n",
    "if datasource in publicAcceptedInputs:\n",
    "    print(\"Retrieving GPS Log\")\n",
    "    gpslog=pd.read_csv(\"gps_log_collated.csv\")\n",
    "    gpslog = parsegps(gpslog)\n",
    "    print(\"GPS Log retrieved\")\n",
    "    print(\"Retrieving Mood Reports\")\n",
    "    outcomes=pd.read_csv(\"survey_answers_collated.csv\")\n",
    "    outcomes=parseoutcomes(outcomes)\n",
    "    print(\"Mood Reports retrieved\")\n",
    "    print(\"Retrieving Application Usage\")\n",
    "    applog=pd.read_csv(\"appdata_empty.csv\")\n",
    "    applog=parseapplog(applog)\n",
    "    print(\"Application Usage retrieved\")\n",
    "#permanent variables\n",
    "permAppLog=applog\n",
    "permGPSLog=gpslog\n",
    "permOutcomes=outcomes"
   ],
   "execution_count":311,
   "outputs":[
    {
     "name":"stdout",
     "text":[
      "Please enter the data source you would like to use:\n",
      "    1. Sensing Application\n",
      "    2. Public Sample Beiwe Dataset (Researchers) 2\n",
      "Retrieving GPS Log\n",
      "GPS Log retrieved\n",
      "Retrieving Mood Reports\n",
      "Mood Reports retrieved\n",
      "Retrieving Application Usage\n",
      "Application Usage retrieved\n"
     ],
     "output_type":"stream"
    }
   ],
   "metadata":{
    "datalore":{
     "node_id":"dMW6W2ZJCx7cJecJlcGEQ3",
     "type":"CODE",
     "hide_input_from_viewers":true,
     "hide_output_from_viewers":true
    }
   }
  },
  {
   "cell_type":"markdown",
   "source":[
    "# Researcher Area (Model Training)"
   ],
   "attachments":{
    
   },
   "metadata":{
    "datalore":{
     "node_id":"AVtPOMTerZoNg1IQLIjvK4",
     "type":"MD",
     "hide_input_from_viewers":true,
     "hide_output_from_viewers":true
    }
   }
  },
  {
   "cell_type":"code",
   "source":[
    "##Prepare DATA\n",
    "labels=pd.DataFrame()\n",
    "features=pd.DataFrame()\n",
    "\n",
    "#Seperate dataframes by outcome timeframes\n",
    "def filterGPS(time):\n",
    "    gpslog['Time']= pd.to_datetime(gpslog['Time']).dt.date\n",
    "    filteredGPS=(gpslog.loc[gpslog['Time'] <= time])\n",
    "    gpslog.drop(gpslog.loc[gpslog['Time'] <= time].index, inplace=True)\n",
    "    return filteredGPS\n",
    "\n",
    "def filterApps(time):\n",
    "    applog['timeclosed'] = pd.to_datetime(applog['timeclosed']).dt.date\n",
    "    applog['timeopened'] = pd.to_datetime(applog['timeopened']).dt.date\n",
    "    filteredApps=(applog.loc[applog['timeclosed'] <= time])\n",
    "    applog.drop(applog.loc[applog['timeclosed'] <= time].index, inplace=True)\n",
    "    return filteredApps\n",
    "\n",
    "\n",
    "#GPS calculate standard deviation of latitude and longitude\n",
    "#GPS calculate standard deviation of movement (combined both into one)\n",
    "def stdmovement(movementlog):\n",
    "    movementlog=movementlog.std().to_frame().transpose()\n",
    "    movementlog['movement']=(movementlog['latitude']+movementlog['longitude'])\/2\n",
    "    return movementlog['movement']\n",
    "\n",
    "#Apps calculate total time used\n",
    "def findAppUsage(appusagetime):\n",
    "    if not appusagetime.empty:\n",
    "        appusagetime['timeused']=float((appusagetime['timeclosed']-appusagetime['timeopened']).astype('timedelta64[h]'))\n",
    "    else:\n",
    "        appusagetime['timeused']=[0.0]\n",
    "        appusagetime['appname']=[\"blank\"]\n",
    "    return appusagetime[['appname', 'timeused']]\n",
    "\n",
    "#Apps transpose name into header and time used into value\n",
    "def transposeApps(appusagetime2):\n",
    "    appusagetime2 = appusagetime2.transpose()\n",
    "    header=appusagetime2.iloc[0]\n",
    "    appusagetime2=appusagetime2[1:]\n",
    "    appusagetime2.columns=header\n",
    "    appusagetime2.reset_index(drop=True, inplace=True)\n",
    "    return appusagetime2\n",
    "\n",
    "#Merge apps and GPS\n",
    "def mergeFeatures(movement, appusage):\n",
    "    movement.reset_index(drop=True, inplace=True)\n",
    "    appusage.reset_index(drop=True, inplace=True)\n",
    "    return pd.concat([movement, appusage], axis=1)\n",
    "\n",
    "#Outcomes transpose name into header and ints into value\n",
    "def transposeOutcomes(outcomestotranspose):\n",
    "    outcomestotranspose=outcomestotranspose.to_frame().transpose()\n",
    "    outcomestotranspose.drop(columns=['Time', 'userid'], inplace=True)\n",
    "    return outcomestotranspose\n",
    "\n",
    "\n",
    "\n",
    "#Run functions for each outcome\n",
    "for i in range(outcomes.shape[0]):\n",
    "    filterTime=(outcomes.iloc[i]['Time'])\n",
    "    movement=stdmovement(filterGPS(filterTime))\n",
    "    appusage=transposeApps(findAppUsage(filterApps(filterTime)))\n",
    "    features=features.append(mergeFeatures(movement, appusage), ignore_index=True)\n",
    "    labels=labels.append(transposeOutcomes(outcomes.iloc[i]), ignore_index=True)\n",
    "#remove NaN\n",
    "features=(features.fillna(0)).astype(float)\n",
    "labels=(labels.fillna(0)).astype(int)\n",
    "print(features)"
   ],
   "execution_count":303,
   "outputs":[
    {
     "name":"stdout",
     "text":[
      "    movement  Null  blank\n",
      "0   0.017855   0.0    0.0\n",
      "1   0.006392   0.0    0.0\n",
      "2   0.012777   0.0    0.0\n",
      "3   0.000010   0.0    0.0\n",
      "4   0.013738   0.0    0.0\n",
      "5  23.516032   0.0    0.0\n",
      "6  19.299378   0.0    0.0\n"
     ],
     "output_type":"stream"
    }
   ],
   "metadata":{
    "datalore":{
     "node_id":"D3kRduLkGnJcWBfyhFRPFK",
     "type":"CODE",
     "hide_input_from_viewers":true,
     "hide_output_from_viewers":true
    }
   }
  },
  {
   "cell_type":"code",
   "source":[
    "##Training\/Test Split\n",
    "cval=1\n",
    "userInput=\"\"\n",
    "while userInput not in [\"1\", \"2\"]:\n",
    "    userInput=input(\"Would you like a: simple split (input 1), or cross-validation (input 2)?\")\n",
    "\n",
    "#Simple Training\/Test Split\n",
    "if userInput==\"1\":\n",
    "    cval=1\n",
    "#train=features.sample(frac=0.8,random_state=200)\n",
    "#test=features.drop(train.index)\n",
    "#trainLabels=labels.drop(test.index)\n",
    "#testLabels=features.drop(train.index)\n",
    "\n",
    "#Cross Validation\n",
    "else:\n",
    "    userInput=\"aaa\"\n",
    "    while not userInput.isnumeric():\n",
    "        userInput=input(\"How many cross-validation levels would you like to run?\")\n",
    "    cval=int(userInput)\n",
    "    #k_folds = KFold(n_splits=cval)"
   ],
   "execution_count":243,
   "outputs":[
    {
     "name":"stdout",
     "text":[
      "Would you like a: simple split (input 1), or cross-validation (input 2)? 2\n",
      "How many cross-validation levels would you like to run? 6\n"
     ],
     "output_type":"stream"
    }
   ],
   "metadata":{
    "datalore":{
     "node_id":"RwppAgdaDIoA9n4qn6s4Ux",
     "type":"CODE",
     "hide_input_from_viewers":true,
     "hide_output_from_viewers":true
    }
   }
  },
  {
   "cell_type":"code",
   "source":[
    "\n",
    "\n",
    "##Models for training\n",
    "models=[[],[],[],[],[]]\n",
    "scores=[[],[],[],[],[]]\n",
    "def MRegress():\n",
    "    X_train, X_test, y_train, y_test = train_test_split(features, labels, test_size=0.3)\n",
    "    model=LinearRegression()\n",
    "    model.fit(X_train,y_train)\n",
    "    y_predict=model.predict(X_test)\n",
    "    return model, model.score(y_predict, y_test)\n",
    "\n",
    "def SVM():\n",
    "    X_train, X_test, y_train, y_test = train_test_split(features, labels, test_size=0.3)\n",
    "    model=svm.LinearSVC()\n",
    "    multilabel_classifier = MultiOutputClassifier(model, n_jobs=-1)\n",
    "    multilabel_classifier = multilabel_classifier.fit(X_train,y_train)\n",
    "    y_predict=multilabel_classifier.predict(X_test)\n",
    "    return multilabel_classifier, multilabel_classifier.score(y_predict, y_test)\n",
    "\n",
    "def DecTree():\n",
    "    X_train, X_test, y_train, y_test = train_test_split(features, labels, test_size=0.3)\n",
    "    model = tree.DecisionTreeClassifier(max_depth=100) \n",
    "    multilabel_classifier = MultiOutputClassifier(model, n_jobs=-1)\n",
    "    multilabel_classifier = multilabel_classifier.fit(X_train,y_train)\n",
    "    y_predict=multilabel_classifier.predict(X_test)\n",
    "    return multilabel_classifier, multilabel_classifier.score(y_predict, y_test)\n",
    "\n",
    "def RandomForest():\n",
    "    X_train, X_test, y_train, y_test = train_test_split(features, labels, test_size=0.3)\n",
    "    model = RandomForestRegressor(n_estimators = 1000, random_state = 42)\n",
    "    model.fit(X_train,y_train)\n",
    "    y_predict=model.predict(X_test)\n",
    "    return model, model.score(y_predict, y_test)\n",
    "\n",
    "\n",
    "def NB():\n",
    "    X_train, X_test, y_train, y_test = train_test_split(features, labels, test_size=0.3)\n",
    "    model = GaussianNB()\n",
    "    multilabel_classifier = MultiOutputClassifier(model, n_jobs=-1)\n",
    "    multilabel_classifier = multilabel_classifier.fit(X_train,y_train)\n",
    "    y_predict=multilabel_classifier.predict(X_test)\n",
    "    return multilabel_classifier, multilabel_classifier.score(y_predict, y_test)\n",
    "\n",
    "#def NeuralNetwork():\n",
    "#    model = Sequential()\n",
    "#    model.compile(loss='binary_crossentropy', optimizer='adam')\n",
    "\n",
    "#Imputer for missing values\n",
    "imp = SimpleImputer(strategy='constant', fill_value=0)\n",
    "imp = imp.fit(features)\n",
    "\n",
    "\n",
    "functionList=[MRegress, SVM, DecTree, RandomForest, NB]\n",
    "for i in range(cval):\n",
    "    for ii in range(5):\n",
    "        x, y = functionList[ii]()\n",
    "        models[ii].append(x)\n",
    "        scores[ii].append(y)\n",
    "\n",
    "fittedFeatures=features"
   ],
   "execution_count":304,
   "outputs":[
    
   ],
   "metadata":{
    "datalore":{
     "node_id":"nC3AnPJHQ2sm3Ho8ZdMVaT",
     "type":"CODE",
     "hide_input_from_viewers":true,
     "hide_output_from_viewers":true
    }
   }
  },
  {
   "cell_type":"code",
   "source":[
    "##Accuracy calculator\n",
    "avgscores=[]\n",
    "bestModel=-10000\n",
    "bestModeli=0\n",
    "for i in range(len(models)):\n",
    "    avgscores.append(mean(scores[i]))\n",
    "    if mean(scores[i]) > bestModel and mean(scores[i]) !=0.0:\n",
    "        bestModel=mean(scores[i])\n",
    "        bestModeli=i\n",
    "scores"
   ],
   "execution_count":308,
   "outputs":[
    {
     "data":{
      "text\/plain":[
       "[[-5699.694146563544,\n",
       "  -560.6896358664998,\n",
       "  -66.71204198884736,\n",
       "  -810.319903393474,\n",
       "  -560.6896358665002,\n",
       "  -2370.8562960867807],\n",
       " [0.3333333333333333, 0.3333333333333333, 0.0, 0.0, 0.0, 0.0],\n",
       " [0.0, 0.0, 0.0, 0.0, 0.0, 0.0],\n",
       " [-0.5383908746887222,\n",
       "  -17.685384265442135,\n",
       "  -38.017573209240716,\n",
       "  -1.7945869775306384,\n",
       "  -4.067341119069531,\n",
       "  -1.0817159085320471],\n",
       " [0.0, 0.0, 0.0, 0.0, 0.0, 0.0]]"
      ]
     },
     "metadata":{
      
     },
     "output_type":"display_data"
    }
   ],
   "metadata":{
    "datalore":{
     "node_id":"dvteUSQuaeMDy1PN4MS7Kw",
     "type":"CODE",
     "hide_input_from_viewers":true,
     "hide_output_from_viewers":true
    }
   }
  },
  {
   "cell_type":"code",
   "source":[
    "##Model Selector\n",
    "bestModel=-10000\n",
    "bestModelii=0\n",
    "for i in range(len(models[0])):\n",
    "    if (scores[bestModeli][i]) > bestModel and (scores[bestModeli][i]) !=0.0:\n",
    "        bestModel=mean(scores[i])\n",
    "        bestModelii=i\n",
    "finalModel=models[bestModeli][bestModelii]\n",
    "finalModel"
   ],
   "execution_count":310,
   "outputs":[
    {
     "data":{
      "text\/html":[
       "<style>#sk-container-id-8 {color: black;background-color: white;}#sk-container-id-8 pre{padding: 0;}#sk-container-id-8 div.sk-toggleable {background-color: white;}#sk-container-id-8 label.sk-toggleable__label {cursor: pointer;display: block;width: 100%;margin-bottom: 0;padding: 0.3em;box-sizing: border-box;text-align: center;}#sk-container-id-8 label.sk-toggleable__label-arrow:before {content: \"▸\";float: left;margin-right: 0.25em;color: #696969;}#sk-container-id-8 label.sk-toggleable__label-arrow:hover:before {color: black;}#sk-container-id-8 div.sk-estimator:hover label.sk-toggleable__label-arrow:before {color: black;}#sk-container-id-8 div.sk-toggleable__content {max-height: 0;max-width: 0;overflow: hidden;text-align: left;background-color: #f0f8ff;}#sk-container-id-8 div.sk-toggleable__content pre {margin: 0.2em;color: black;border-radius: 0.25em;background-color: #f0f8ff;}#sk-container-id-8 input.sk-toggleable__control:checked~div.sk-toggleable__content {max-height: 200px;max-width: 100%;overflow: auto;}#sk-container-id-8 input.sk-toggleable__control:checked~label.sk-toggleable__label-arrow:before {content: \"▾\";}#sk-container-id-8 div.sk-estimator input.sk-toggleable__control:checked~label.sk-toggleable__label {background-color: #d4ebff;}#sk-container-id-8 div.sk-label input.sk-toggleable__control:checked~label.sk-toggleable__label {background-color: #d4ebff;}#sk-container-id-8 input.sk-hidden--visually {border: 0;clip: rect(1px 1px 1px 1px);clip: rect(1px, 1px, 1px, 1px);height: 1px;margin: -1px;overflow: hidden;padding: 0;position: absolute;width: 1px;}#sk-container-id-8 div.sk-estimator {font-family: monospace;background-color: #f0f8ff;border: 1px dotted black;border-radius: 0.25em;box-sizing: border-box;margin-bottom: 0.5em;}#sk-container-id-8 div.sk-estimator:hover {background-color: #d4ebff;}#sk-container-id-8 div.sk-parallel-item::after {content: \"\";width: 100%;border-bottom: 1px solid gray;flex-grow: 1;}#sk-container-id-8 div.sk-label:hover label.sk-toggleable__label {background-color: #d4ebff;}#sk-container-id-8 div.sk-serial::before {content: \"\";position: absolute;border-left: 1px solid gray;box-sizing: border-box;top: 0;bottom: 0;left: 50%;z-index: 0;}#sk-container-id-8 div.sk-serial {display: flex;flex-direction: column;align-items: center;background-color: white;padding-right: 0.2em;padding-left: 0.2em;position: relative;}#sk-container-id-8 div.sk-item {position: relative;z-index: 1;}#sk-container-id-8 div.sk-parallel {display: flex;align-items: stretch;justify-content: center;background-color: white;position: relative;}#sk-container-id-8 div.sk-item::before, #sk-container-id-8 div.sk-parallel-item::before {content: \"\";position: absolute;border-left: 1px solid gray;box-sizing: border-box;top: 0;bottom: 0;left: 50%;z-index: -1;}#sk-container-id-8 div.sk-parallel-item {display: flex;flex-direction: column;z-index: 1;position: relative;background-color: white;}#sk-container-id-8 div.sk-parallel-item:first-child::after {align-self: flex-end;width: 50%;}#sk-container-id-8 div.sk-parallel-item:last-child::after {align-self: flex-start;width: 50%;}#sk-container-id-8 div.sk-parallel-item:only-child::after {width: 0;}#sk-container-id-8 div.sk-dashed-wrapped {border: 1px dashed gray;margin: 0 0.4em 0.5em 0.4em;box-sizing: border-box;padding-bottom: 0.4em;background-color: white;}#sk-container-id-8 div.sk-label label {font-family: monospace;font-weight: bold;display: inline-block;line-height: 1.2em;}#sk-container-id-8 div.sk-label-container {text-align: center;}#sk-container-id-8 div.sk-container {\/* jupyter's `normalize.less` sets `[hidden] { display: none; }` but bootstrap.min.css set `[hidden] { display: none !important; }` so we also need the `!important` here to be able to override the default hidden behavior on the sphinx rendered scikit-learn.org. See: https:\/\/github.com\/scikit-learn\/scikit-learn\/issues\/21755 *\/display: inline-block !important;position: relative;}#sk-container-id-8 div.sk-text-repr-fallback {display: none;}<\/style><div id=\"sk-container-id-8\" class=\"sk-top-container\"><div class=\"sk-text-repr-fallback\"><pre>MultiOutputClassifier(estimator=LinearSVC(), n_jobs=-1)<\/pre><b>In a Jupyter environment, please rerun this cell to show the HTML representation or trust the notebook. <br \/>On GitHub, the HTML representation is unable to render, please try loading this page with nbviewer.org.<\/b><\/div><div class=\"sk-container\" hidden><div class=\"sk-item sk-dashed-wrapped\"><div class=\"sk-label-container\"><div class=\"sk-label sk-toggleable\"><input class=\"sk-toggleable__control sk-hidden--visually\" id=\"sk-estimator-id-18\" type=\"checkbox\" ><label for=\"sk-estimator-id-18\" class=\"sk-toggleable__label sk-toggleable__label-arrow\">MultiOutputClassifier<\/label><div class=\"sk-toggleable__content\"><pre>MultiOutputClassifier(estimator=LinearSVC(), n_jobs=-1)<\/pre><\/div><\/div><\/div><div class=\"sk-parallel\"><div class=\"sk-parallel-item\"><div class=\"sk-item\"><div class=\"sk-label-container\"><div class=\"sk-label sk-toggleable\"><input class=\"sk-toggleable__control sk-hidden--visually\" id=\"sk-estimator-id-19\" type=\"checkbox\" ><label for=\"sk-estimator-id-19\" class=\"sk-toggleable__label sk-toggleable__label-arrow\">estimator: LinearSVC<\/label><div class=\"sk-toggleable__content\"><pre>LinearSVC()<\/pre><\/div><\/div><\/div><div class=\"sk-serial\"><div class=\"sk-item\"><div class=\"sk-estimator sk-toggleable\"><input class=\"sk-toggleable__control sk-hidden--visually\" id=\"sk-estimator-id-20\" type=\"checkbox\" ><label for=\"sk-estimator-id-20\" class=\"sk-toggleable__label sk-toggleable__label-arrow\">LinearSVC<\/label><div class=\"sk-toggleable__content\"><pre>LinearSVC()<\/pre><\/div><\/div><\/div><\/div><\/div><\/div><\/div><\/div><\/div><\/div>"
      ]
     },
     "metadata":{
      
     },
     "output_type":"display_data"
    }
   ],
   "metadata":{
    "datalore":{
     "node_id":"uzRfygULmGaRmXJJI0ygN5",
     "type":"CODE",
     "hide_input_from_viewers":true,
     "hide_output_from_viewers":true
    }
   }
  },
  {
   "cell_type":"markdown",
   "source":[
    "# User Selection"
   ],
   "attachments":{
    
   },
   "metadata":{
    "datalore":{
     "node_id":"Y0wzjSdeSrPhgeNxcKWXUE",
     "type":"MD",
     "hide_input_from_viewers":true,
     "hide_output_from_viewers":true
    }
   }
  },
  {
   "cell_type":"code",
   "source":[
    "#get from perm storage\n",
    "gpslog=permGPSLog\n",
    "applog=permAppLog\n",
    "outcomes=permOutcomes\n",
    "features=pd.DataFrame()\n",
    "\n",
    "userInput=\"\"\n",
    "while userInput not in (outcomes['userid']).unique():\n",
    "    userInput=input(\"Please enter the user id to generate the most recent prediction for\")\n",
    "\n",
    "\n",
    "\n",
    "#drop non-user tables\n",
    "gpslog=gpslog[gpslog.userid == userInput]\n",
    "applog=applog[applog.userid == userInput]\n",
    "outcomes=outcomes[outcomes.userid == userInput]\n",
    "\n",
    "#Mute the SettingWithCopyWarning error\n",
    "pd.options.mode.chained_assignment = None\n",
    "\n",
    "# filter data, only grabbing most recent features\n",
    "for i in range(outcomes.shape[0]):\n",
    "    filterTime=(outcomes.iloc[i]['Time'])\n",
    "    movement=stdmovement(filterGPS(filterTime))\n",
    "    appusage=transposeApps(findAppUsage(filterApps(filterTime)))\n",
    "    features=mergeFeatures(movement, appusage)"
   ],
   "execution_count":312,
   "outputs":[
    {
     "name":"stdout",
     "text":[
      "Please enter the user id to generate the most recent prediction for efy3yeum\n"
     ],
     "output_type":"stream"
    }
   ],
   "metadata":{
    "datalore":{
     "node_id":"S3E43cxLwPacI2R8PNyyxp",
     "type":"CODE",
     "hide_input_from_viewers":true,
     "hide_output_from_viewers":true
    }
   }
  },
  {
   "cell_type":"markdown",
   "source":[
    "# Reports and Prediction"
   ],
   "attachments":{
    
   },
   "metadata":{
    "datalore":{
     "node_id":"OXdMNm46pnXq8ZXSY2OPFL",
     "type":"MD",
     "hide_input_from_viewers":true,
     "hide_output_from_viewers":true
    }
   }
  },
  {
   "cell_type":"code",
   "source":[
    "#AI Prediction\n",
    "for i in fittedFeatures.columns:\n",
    "    if i not in features.columns:\n",
    "        features[i]=0\n",
    "features=features[fittedFeatures.columns]\n",
    "#y_predict=finalModel.predict(features)\n",
    "y_predict=finalModel.predict(features)\n",
    "\n",
    "def issuesMap(x):\n",
    "    stringBuilder=\"\"\n",
    "    if x <10:\n",
    "        stringBuilder+='Little interest in doing things,'      \n",
    "    elif x<100:\n",
    "        stringBuilder+='Trouble falling asleep'\n",
    "    elif x<1000:\n",
    "        stringBuilder+='Poor appetite'\n",
    "    else:\n",
    "       stringBuilder+= 'Trouble concentrating'\n",
    "    return stringBuilder\n",
    "\n",
    "\n",
    "y_predictFrame=pd.DataFrame(y_predict, columns=[\"Likely issues\",\"Mood (out of 10)\", \"Estimated daily contacts\"])\n",
    "y_predictFrame['Likely issues']=y_predictFrame['Likely issues'].map(issuesMap)\n",
    "\n",
    "#Classification Report\n",
    "fig, ax = plt.subplots(figsize=(12,4))\n",
    "ax.axis('tight')\n",
    "ax.axis('off')\n",
    "the_table = ax.table(cellText=y_predictFrame.values,colLabels=y_predictFrame.columns,loc='center')\n",
    "pp = PdfPages(\"Report.pdf\")\n",
    "pp.savefig(fig, bbox_inches='tight')\n",
    "pp.close()\n",
    "\n",
    "print(\"sql query: Insert into table_name (column1, column2, column3) values '\"+ y_predictFrame[\"Likely issues\"][0]+\"', \"+str(y_predictFrame[\"Mood (out of 10)\"][0])+\",\"+str(y_predictFrame[\"Estimated daily contacts\"][0]))"
   ],
   "execution_count":343,
   "outputs":[
    {
     "name":"stdout",
     "text":[
      "sql query: Insert into table_name (column1, column2, column3) values 'Poor appetite', 7,4\n"
     ],
     "output_type":"stream"
    },
    {
     "data":{
      "image\/png":"[encoded data removed]"
     },
     "metadata":{
      "image\/png":{
       
      }
     },
     "output_type":"display_data"
    }
   ],
   "metadata":{
    "datalore":{
     "node_id":"30onb0n9BasKE6c1Y5y6I9",
     "type":"CODE",
     "hide_input_from_viewers":true,
     "hide_output_from_viewers":true
    }
   }
  }
 ],
 "metadata":{
  "kernelspec":{
   "display_name":"Python",
   "language":"python",
   "name":"python"
  },
  "datalore":{
   "computation_mode":"JUPYTER",
   "package_manager":"pip",
   "base_environment":"default",
   "packages":[
    {
     "name":"reportlab",
     "version":"4.0.4",
     "source":"PIP"
    }
   ],
   "report_row_ids":[
    
   ],
   "version":3
  }
 },
 "nbformat":4,
 "nbformat_minor":4
}